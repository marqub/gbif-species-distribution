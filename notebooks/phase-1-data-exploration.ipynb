{
  "nbformat": 4,
  "nbformat_minor": 0,
  "metadata": {
    "colab": {
      "provenance": [],
      "authorship_tag": "ABX9TyO8ATkFxo82YrAvioQqGapP",
      "include_colab_link": true
    },
    "kernelspec": {
      "name": "python3",
      "display_name": "Python 3"
    },
    "language_info": {
      "name": "python"
    }
  },
  "cells": [
    {
      "cell_type": "markdown",
      "metadata": {
        "id": "view-in-github",
        "colab_type": "text"
      },
      "source": [
        "<a href=\"https://colab.research.google.com/github/marqub/gbif-species-distribution-analysis/blob/main/notebooks/phase-1-data-exploration.ipynb\" target=\"_parent\"><img src=\"https://colab.research.google.com/assets/colab-badge.svg\" alt=\"Open In Colab\"/></a>"
      ]
    },
    {
      "cell_type": "code",
      "source": [
        "%%capture\n",
        "!pip install https://github.com/pandas-profiling/pandas-profiling/archive/master.zip \n",
        "!pip install numpy pandas streamlit gdown pyarrow\n",
        "!pip install git\n",
        "!pip install --upgrade pandas-profiling\n",
        "!pip show pandas-profiling\n",
        "!pip install pytz"
      ],
      "metadata": {
        "id": "1-TpbV40TV8A"
      },
      "execution_count": 50,
      "outputs": []
    },
    {
      "cell_type": "code",
      "source": [
        "import markupsafe\n",
        "print(markupsafe.__version__)\n",
        "# Import necessary libraries\n",
        "import pandas as pd\n",
        "import numpy as np\n",
        "import git\n",
        "import os\n",
        "import zipfile\n",
        "from pandas_profiling import ProfileReport\n",
        "import pytz as tz"
      ],
      "metadata": {
        "colab": {
          "base_uri": "https://localhost:8080/"
        },
        "id": "TGop_bKmkDMJ",
        "outputId": "a35c3d44-35c2-491e-f663-629901ef773a"
      },
      "execution_count": 51,
      "outputs": [
        {
          "output_type": "stream",
          "name": "stdout",
          "text": [
            "2.0.1\n"
          ]
        }
      ]
    },
    {
      "cell_type": "code",
      "source": [
        "# Show all columns (instead of cascading columns in the middle)\n",
        "pd.set_option(\"display.max_columns\", None)\n",
        "# Don't show numbers in scientific notation\n",
        "pd.set_option(\"display.float_format\", \"{:.2f}\".format)"
      ],
      "metadata": {
        "id": "L4vSPPEasasm"
      },
      "execution_count": 52,
      "outputs": []
    },
    {
      "cell_type": "code",
      "source": [
        "# Load GBIF dataset\n",
        "repo = git.Repo.clone_from(\"https://github.com/marqub/gbif-species-distribution-analysis.git\", \"gbif-species-distribution-analysis\")"
      ],
      "metadata": {
        "id": "0MSYbcadTzhP"
      },
      "execution_count": 53,
      "outputs": []
    },
    {
      "cell_type": "code",
      "source": [
        "os.chdir(\"gbif-species-distribution-analysis/data\")\n",
        "with zipfile.ZipFile(\"gbif_data_2016to2022_northamerica.csv.zip\", \"r\") as zip_ref:\n",
        "    zip_ref.extractall(\".\")"
      ],
      "metadata": {
        "id": "SONtU29MlGhS"
      },
      "execution_count": 54,
      "outputs": []
    },
    {
      "cell_type": "code",
      "source": [
        "df = pd.read_csv(\"0233944-220831081235567.csv\", sep='\\t', on_bad_lines='skip')"
      ],
      "metadata": {
        "id": "pxAuIzCgU1EN",
        "outputId": "151fe8b5-2061-48b9-813c-4f6345aafbf4",
        "colab": {
          "base_uri": "https://localhost:8080/"
        }
      },
      "execution_count": 55,
      "outputs": [
        {
          "output_type": "stream",
          "name": "stderr",
          "text": [
            "/usr/local/lib/python3.8/dist-packages/IPython/core/interactiveshell.py:3326: DtypeWarning: Columns (10,14,16,36,37,38,39,40,41,43,44,45,46,48,49) have mixed types.Specify dtype option on import or set low_memory=False.\n",
            "  exec(code_obj, self.user_global_ns, self.user_ns)\n"
          ]
        }
      ]
    },
    {
      "cell_type": "code",
      "source": [
        "# Explore the data\n",
        "# Use df.info() to get a summary of the data types and missing values in the dataset\n",
        "print(df.info())\n",
        "# Use df.head() to view the first few rows of the dataset\n",
        "df.head()"
      ],
      "metadata": {
        "id": "UqWK6KfnVj0D",
        "outputId": "cf6829ee-8f58-44d6-90fb-ef6a0e9d7a36",
        "colab": {
          "base_uri": "https://localhost:8080/",
          "height": 1000
        }
      },
      "execution_count": 56,
      "outputs": [
        {
          "output_type": "stream",
          "name": "stdout",
          "text": [
            "<class 'pandas.core.frame.DataFrame'>\n",
            "RangeIndex: 616318 entries, 0 to 616317\n",
            "Data columns (total 50 columns):\n",
            " #   Column                            Non-Null Count   Dtype  \n",
            "---  ------                            --------------   -----  \n",
            " 0   gbifID                            616318 non-null  int64  \n",
            " 1   datasetKey                        616318 non-null  object \n",
            " 2   occurrenceID                      616301 non-null  object \n",
            " 3   kingdom                           616318 non-null  object \n",
            " 4   phylum                            613735 non-null  object \n",
            " 5   class                             563890 non-null  object \n",
            " 6   order                             540768 non-null  object \n",
            " 7   family                            591741 non-null  object \n",
            " 8   genus                             530786 non-null  object \n",
            " 9   species                           455886 non-null  object \n",
            " 10  infraspecificEpithet              21782 non-null   object \n",
            " 11  taxonRank                         616318 non-null  object \n",
            " 12  scientificName                    616318 non-null  object \n",
            " 13  verbatimScientificName            604027 non-null  object \n",
            " 14  verbatimScientificNameAuthorship  243727 non-null  object \n",
            " 15  countryCode                       613282 non-null  object \n",
            " 16  locality                          499963 non-null  object \n",
            " 17  stateProvince                     594805 non-null  object \n",
            " 18  occurrenceStatus                  616318 non-null  object \n",
            " 19  individualCount                   253318 non-null  float64\n",
            " 20  publishingOrgKey                  616318 non-null  object \n",
            " 21  decimalLatitude                   536572 non-null  float64\n",
            " 22  decimalLongitude                  536572 non-null  float64\n",
            " 23  coordinateUncertaintyInMeters     169598 non-null  float64\n",
            " 24  coordinatePrecision               120 non-null     float64\n",
            " 25  elevation                         131838 non-null  float64\n",
            " 26  elevationAccuracy                 77630 non-null   float64\n",
            " 27  depth                             11972 non-null   float64\n",
            " 28  depthAccuracy                     5689 non-null    float64\n",
            " 29  eventDate                         616318 non-null  object \n",
            " 30  day                               602572 non-null  float64\n",
            " 31  month                             605523 non-null  float64\n",
            " 32  year                              616318 non-null  int64  \n",
            " 33  taxonKey                          616318 non-null  int64  \n",
            " 34  speciesKey                        455885 non-null  float64\n",
            " 35  basisOfRecord                     616318 non-null  object \n",
            " 36  institutionCode                   515538 non-null  object \n",
            " 37  collectionCode                    500744 non-null  object \n",
            " 38  catalogNumber                     493044 non-null  object \n",
            " 39  recordNumber                      153893 non-null  object \n",
            " 40  identifiedBy                      329860 non-null  object \n",
            " 41  dateIdentified                    205128 non-null  object \n",
            " 42  license                           616318 non-null  object \n",
            " 43  rightsHolder                      235486 non-null  object \n",
            " 44  recordedBy                        498483 non-null  object \n",
            " 45  typeStatus                        1353 non-null    object \n",
            " 46  establishmentMeans                34958 non-null   object \n",
            " 47  lastInterpreted                   616318 non-null  object \n",
            " 48  mediaType                         73511 non-null   object \n",
            " 49  issue                             518132 non-null  object \n",
            "dtypes: float64(12), int64(3), object(35)\n",
            "memory usage: 235.1+ MB\n",
            "None\n"
          ]
        },
        {
          "output_type": "execute_result",
          "data": {
            "text/plain": [
              "       gbifID                            datasetKey  \\\n",
              "0  2885135301  90d8babc-685f-449e-a4ec-7275ca7655c7   \n",
              "1  2885135303  90d8babc-685f-449e-a4ec-7275ca7655c7   \n",
              "2  2885135305  90d8babc-685f-449e-a4ec-7275ca7655c7   \n",
              "3  2885135306  90d8babc-685f-449e-a4ec-7275ca7655c7   \n",
              "4  2885135307  90d8babc-685f-449e-a4ec-7275ca7655c7   \n",
              "\n",
              "                           occurrenceID   kingdom      phylum    class  \\\n",
              "0  871d7336-1a5b-4926-8d12-c2102f55975b  Animalia  Arthropoda  Insecta   \n",
              "1  60874093-5130-4d84-baa4-eafd4de80718  Animalia  Arthropoda  Insecta   \n",
              "2  6b69e42c-2710-46bb-8581-8a6c6f5701dc  Animalia  Arthropoda  Insecta   \n",
              "3  426e6fd4-8074-41a4-82ef-8c796837d99e  Animalia  Arthropoda  Insecta   \n",
              "4  0c105d9b-1325-4f81-9b29-158ac8eeb6f9  Animalia  Arthropoda  Insecta   \n",
              "\n",
              "         order  family   genus           species infraspecificEpithet  \\\n",
              "0  Hymenoptera  Apidae  Bombus  Bombus johanseni                  NaN   \n",
              "1  Hymenoptera  Apidae  Bombus  Bombus johanseni                  NaN   \n",
              "2  Hymenoptera  Apidae  Bombus  Bombus johanseni                  NaN   \n",
              "3  Hymenoptera  Apidae  Bombus  Bombus johanseni                  NaN   \n",
              "4  Hymenoptera  Apidae  Bombus  Bombus johanseni                  NaN   \n",
              "\n",
              "  taxonRank                                scientificName  \\\n",
              "0   SPECIES  Bombus johanseni (Sladen, 1919) Sladen, 1919   \n",
              "1   SPECIES  Bombus johanseni (Sladen, 1919) Sladen, 1919   \n",
              "2   SPECIES  Bombus johanseni (Sladen, 1919) Sladen, 1919   \n",
              "3   SPECIES  Bombus johanseni (Sladen, 1919) Sladen, 1919   \n",
              "4   SPECIES  Bombus johanseni (Sladen, 1919) Sladen, 1919   \n",
              "\n",
              "     verbatimScientificName verbatimScientificNameAuthorship countryCode  \\\n",
              "0  Bombus johanseni  Sladen                           Sladen          CA   \n",
              "1  Bombus johanseni  Sladen                           Sladen          CA   \n",
              "2  Bombus johanseni  Sladen                           Sladen          CA   \n",
              "3  Bombus johanseni  Sladen                           Sladen          CA   \n",
              "4  Bombus johanseni  Sladen                           Sladen          CA   \n",
              "\n",
              "                       locality          stateProvince occurrenceStatus  \\\n",
              "0      Kitikmeot, Cambridge Bay                Nunavut          PRESENT   \n",
              "1  Sach's Harbour, Banks Island  Northwest Territories          PRESENT   \n",
              "2  Sach's Harbour, Banks Island  Northwest Territories          PRESENT   \n",
              "3  Sach's Harbour, Banks Island  Northwest Territories          PRESENT   \n",
              "4  Sach's Harbour, Banks Island  Northwest Territories          PRESENT   \n",
              "\n",
              "   individualCount                      publishingOrgKey  decimalLatitude  \\\n",
              "0             1.00  39fd7088-af63-4ad5-8d30-479a720a368b            69.13   \n",
              "1             1.00  39fd7088-af63-4ad5-8d30-479a720a368b            71.99   \n",
              "2             1.00  39fd7088-af63-4ad5-8d30-479a720a368b            71.99   \n",
              "3             1.00  39fd7088-af63-4ad5-8d30-479a720a368b            71.99   \n",
              "4             1.00  39fd7088-af63-4ad5-8d30-479a720a368b            71.99   \n",
              "\n",
              "   decimalLongitude  coordinateUncertaintyInMeters  coordinatePrecision  \\\n",
              "0           -105.06                            NaN                  NaN   \n",
              "1           -125.25                            NaN                  NaN   \n",
              "2           -125.29                            NaN                  NaN   \n",
              "3           -125.24                            NaN                  NaN   \n",
              "4           -125.24                            NaN                  NaN   \n",
              "\n",
              "   elevation  elevationAccuracy  depth  depthAccuracy            eventDate  \\\n",
              "0        NaN                NaN    NaN            NaN  2018-08-09T00:00:00   \n",
              "1        NaN                NaN    NaN            NaN  2018-07-09T00:00:00   \n",
              "2        NaN                NaN    NaN            NaN  2018-07-07T00:00:00   \n",
              "3        NaN                NaN    NaN            NaN  2018-07-04T00:00:00   \n",
              "4        NaN                NaN    NaN            NaN  2018-07-04T00:00:00   \n",
              "\n",
              "   day  month  year  taxonKey  speciesKey       basisOfRecord institutionCode  \\\n",
              "0 9.00   8.00  2018  10827632 10827632.00  PRESERVED_SPECIMEN             CBG   \n",
              "1 9.00   7.00  2018  10827632 10827632.00  PRESERVED_SPECIMEN            RSKM   \n",
              "2 7.00   7.00  2018  10827632 10827632.00  PRESERVED_SPECIMEN            RSKM   \n",
              "3 4.00   7.00  2018  10827632 10827632.00  PRESERVED_SPECIMEN            RSKM   \n",
              "4 4.00   7.00  2018  10827632 10827632.00  PRESERVED_SPECIMEN            RSKM   \n",
              "\n",
              "  collectionCode      catalogNumber recordNumber       identifiedBy  \\\n",
              "0            NaN       DCHAR2640-19          NaN  Cory S. Sheffield   \n",
              "1            ENT  RSKM_ENT_E-199719          NaN  Cory S. Sheffield   \n",
              "2            ENT  RSKM_ENT_E-199704          NaN  Cory S. Sheffield   \n",
              "3            ENT  RSKM_ENT_E-199663          NaN  Cory S. Sheffield   \n",
              "4            ENT  RSKM_ENT_E-199662          NaN  Cory S. Sheffield   \n",
              "\n",
              "        dateIdentified    license rightsHolder                recordedBy  \\\n",
              "0  2020-01-01T00:00:00    CC0_1_0          NaN  Collector(s): CBG Team 3   \n",
              "1  2020-01-01T00:00:00  CC_BY_4_0          NaN  Collector(s): J.M. Heron   \n",
              "2  2020-01-01T00:00:00  CC_BY_4_0          NaN  Collector(s): J.M. Heron   \n",
              "3  2020-01-01T00:00:00  CC_BY_4_0          NaN  Collector(s): J.M. Heron   \n",
              "4  2020-01-01T00:00:00  CC_BY_4_0          NaN  Collector(s): J.M. Heron   \n",
              "\n",
              "  typeStatus establishmentMeans           lastInterpreted mediaType  \\\n",
              "0        NaN                NaN  2022-11-25T07:54:38.249Z       NaN   \n",
              "1        NaN                NaN  2022-11-25T07:54:38.509Z       NaN   \n",
              "2        NaN                NaN  2022-11-25T07:54:38.551Z       NaN   \n",
              "3        NaN                NaN  2022-11-25T07:54:38.562Z       NaN   \n",
              "4        NaN                NaN  2022-11-25T07:54:38.582Z       NaN   \n",
              "\n",
              "                                               issue  \n",
              "0  OCCURRENCE_STATUS_INFERRED_FROM_INDIVIDUAL_COU...  \n",
              "1  OCCURRENCE_STATUS_INFERRED_FROM_INDIVIDUAL_COU...  \n",
              "2  OCCURRENCE_STATUS_INFERRED_FROM_INDIVIDUAL_COU...  \n",
              "3  OCCURRENCE_STATUS_INFERRED_FROM_INDIVIDUAL_COU...  \n",
              "4  OCCURRENCE_STATUS_INFERRED_FROM_INDIVIDUAL_COU...  "
            ],
            "text/html": [
              "\n",
              "  <div id=\"df-77dc2d8e-7e7f-4b61-9ae4-693b67a3c227\">\n",
              "    <div class=\"colab-df-container\">\n",
              "      <div>\n",
              "<style scoped>\n",
              "    .dataframe tbody tr th:only-of-type {\n",
              "        vertical-align: middle;\n",
              "    }\n",
              "\n",
              "    .dataframe tbody tr th {\n",
              "        vertical-align: top;\n",
              "    }\n",
              "\n",
              "    .dataframe thead th {\n",
              "        text-align: right;\n",
              "    }\n",
              "</style>\n",
              "<table border=\"1\" class=\"dataframe\">\n",
              "  <thead>\n",
              "    <tr style=\"text-align: right;\">\n",
              "      <th></th>\n",
              "      <th>gbifID</th>\n",
              "      <th>datasetKey</th>\n",
              "      <th>occurrenceID</th>\n",
              "      <th>kingdom</th>\n",
              "      <th>phylum</th>\n",
              "      <th>class</th>\n",
              "      <th>order</th>\n",
              "      <th>family</th>\n",
              "      <th>genus</th>\n",
              "      <th>species</th>\n",
              "      <th>infraspecificEpithet</th>\n",
              "      <th>taxonRank</th>\n",
              "      <th>scientificName</th>\n",
              "      <th>verbatimScientificName</th>\n",
              "      <th>verbatimScientificNameAuthorship</th>\n",
              "      <th>countryCode</th>\n",
              "      <th>locality</th>\n",
              "      <th>stateProvince</th>\n",
              "      <th>occurrenceStatus</th>\n",
              "      <th>individualCount</th>\n",
              "      <th>publishingOrgKey</th>\n",
              "      <th>decimalLatitude</th>\n",
              "      <th>decimalLongitude</th>\n",
              "      <th>coordinateUncertaintyInMeters</th>\n",
              "      <th>coordinatePrecision</th>\n",
              "      <th>elevation</th>\n",
              "      <th>elevationAccuracy</th>\n",
              "      <th>depth</th>\n",
              "      <th>depthAccuracy</th>\n",
              "      <th>eventDate</th>\n",
              "      <th>day</th>\n",
              "      <th>month</th>\n",
              "      <th>year</th>\n",
              "      <th>taxonKey</th>\n",
              "      <th>speciesKey</th>\n",
              "      <th>basisOfRecord</th>\n",
              "      <th>institutionCode</th>\n",
              "      <th>collectionCode</th>\n",
              "      <th>catalogNumber</th>\n",
              "      <th>recordNumber</th>\n",
              "      <th>identifiedBy</th>\n",
              "      <th>dateIdentified</th>\n",
              "      <th>license</th>\n",
              "      <th>rightsHolder</th>\n",
              "      <th>recordedBy</th>\n",
              "      <th>typeStatus</th>\n",
              "      <th>establishmentMeans</th>\n",
              "      <th>lastInterpreted</th>\n",
              "      <th>mediaType</th>\n",
              "      <th>issue</th>\n",
              "    </tr>\n",
              "  </thead>\n",
              "  <tbody>\n",
              "    <tr>\n",
              "      <th>0</th>\n",
              "      <td>2885135301</td>\n",
              "      <td>90d8babc-685f-449e-a4ec-7275ca7655c7</td>\n",
              "      <td>871d7336-1a5b-4926-8d12-c2102f55975b</td>\n",
              "      <td>Animalia</td>\n",
              "      <td>Arthropoda</td>\n",
              "      <td>Insecta</td>\n",
              "      <td>Hymenoptera</td>\n",
              "      <td>Apidae</td>\n",
              "      <td>Bombus</td>\n",
              "      <td>Bombus johanseni</td>\n",
              "      <td>NaN</td>\n",
              "      <td>SPECIES</td>\n",
              "      <td>Bombus johanseni (Sladen, 1919) Sladen, 1919</td>\n",
              "      <td>Bombus johanseni  Sladen</td>\n",
              "      <td>Sladen</td>\n",
              "      <td>CA</td>\n",
              "      <td>Kitikmeot, Cambridge Bay</td>\n",
              "      <td>Nunavut</td>\n",
              "      <td>PRESENT</td>\n",
              "      <td>1.00</td>\n",
              "      <td>39fd7088-af63-4ad5-8d30-479a720a368b</td>\n",
              "      <td>69.13</td>\n",
              "      <td>-105.06</td>\n",
              "      <td>NaN</td>\n",
              "      <td>NaN</td>\n",
              "      <td>NaN</td>\n",
              "      <td>NaN</td>\n",
              "      <td>NaN</td>\n",
              "      <td>NaN</td>\n",
              "      <td>2018-08-09T00:00:00</td>\n",
              "      <td>9.00</td>\n",
              "      <td>8.00</td>\n",
              "      <td>2018</td>\n",
              "      <td>10827632</td>\n",
              "      <td>10827632.00</td>\n",
              "      <td>PRESERVED_SPECIMEN</td>\n",
              "      <td>CBG</td>\n",
              "      <td>NaN</td>\n",
              "      <td>DCHAR2640-19</td>\n",
              "      <td>NaN</td>\n",
              "      <td>Cory S. Sheffield</td>\n",
              "      <td>2020-01-01T00:00:00</td>\n",
              "      <td>CC0_1_0</td>\n",
              "      <td>NaN</td>\n",
              "      <td>Collector(s): CBG Team 3</td>\n",
              "      <td>NaN</td>\n",
              "      <td>NaN</td>\n",
              "      <td>2022-11-25T07:54:38.249Z</td>\n",
              "      <td>NaN</td>\n",
              "      <td>OCCURRENCE_STATUS_INFERRED_FROM_INDIVIDUAL_COU...</td>\n",
              "    </tr>\n",
              "    <tr>\n",
              "      <th>1</th>\n",
              "      <td>2885135303</td>\n",
              "      <td>90d8babc-685f-449e-a4ec-7275ca7655c7</td>\n",
              "      <td>60874093-5130-4d84-baa4-eafd4de80718</td>\n",
              "      <td>Animalia</td>\n",
              "      <td>Arthropoda</td>\n",
              "      <td>Insecta</td>\n",
              "      <td>Hymenoptera</td>\n",
              "      <td>Apidae</td>\n",
              "      <td>Bombus</td>\n",
              "      <td>Bombus johanseni</td>\n",
              "      <td>NaN</td>\n",
              "      <td>SPECIES</td>\n",
              "      <td>Bombus johanseni (Sladen, 1919) Sladen, 1919</td>\n",
              "      <td>Bombus johanseni  Sladen</td>\n",
              "      <td>Sladen</td>\n",
              "      <td>CA</td>\n",
              "      <td>Sach's Harbour, Banks Island</td>\n",
              "      <td>Northwest Territories</td>\n",
              "      <td>PRESENT</td>\n",
              "      <td>1.00</td>\n",
              "      <td>39fd7088-af63-4ad5-8d30-479a720a368b</td>\n",
              "      <td>71.99</td>\n",
              "      <td>-125.25</td>\n",
              "      <td>NaN</td>\n",
              "      <td>NaN</td>\n",
              "      <td>NaN</td>\n",
              "      <td>NaN</td>\n",
              "      <td>NaN</td>\n",
              "      <td>NaN</td>\n",
              "      <td>2018-07-09T00:00:00</td>\n",
              "      <td>9.00</td>\n",
              "      <td>7.00</td>\n",
              "      <td>2018</td>\n",
              "      <td>10827632</td>\n",
              "      <td>10827632.00</td>\n",
              "      <td>PRESERVED_SPECIMEN</td>\n",
              "      <td>RSKM</td>\n",
              "      <td>ENT</td>\n",
              "      <td>RSKM_ENT_E-199719</td>\n",
              "      <td>NaN</td>\n",
              "      <td>Cory S. Sheffield</td>\n",
              "      <td>2020-01-01T00:00:00</td>\n",
              "      <td>CC_BY_4_0</td>\n",
              "      <td>NaN</td>\n",
              "      <td>Collector(s): J.M. Heron</td>\n",
              "      <td>NaN</td>\n",
              "      <td>NaN</td>\n",
              "      <td>2022-11-25T07:54:38.509Z</td>\n",
              "      <td>NaN</td>\n",
              "      <td>OCCURRENCE_STATUS_INFERRED_FROM_INDIVIDUAL_COU...</td>\n",
              "    </tr>\n",
              "    <tr>\n",
              "      <th>2</th>\n",
              "      <td>2885135305</td>\n",
              "      <td>90d8babc-685f-449e-a4ec-7275ca7655c7</td>\n",
              "      <td>6b69e42c-2710-46bb-8581-8a6c6f5701dc</td>\n",
              "      <td>Animalia</td>\n",
              "      <td>Arthropoda</td>\n",
              "      <td>Insecta</td>\n",
              "      <td>Hymenoptera</td>\n",
              "      <td>Apidae</td>\n",
              "      <td>Bombus</td>\n",
              "      <td>Bombus johanseni</td>\n",
              "      <td>NaN</td>\n",
              "      <td>SPECIES</td>\n",
              "      <td>Bombus johanseni (Sladen, 1919) Sladen, 1919</td>\n",
              "      <td>Bombus johanseni  Sladen</td>\n",
              "      <td>Sladen</td>\n",
              "      <td>CA</td>\n",
              "      <td>Sach's Harbour, Banks Island</td>\n",
              "      <td>Northwest Territories</td>\n",
              "      <td>PRESENT</td>\n",
              "      <td>1.00</td>\n",
              "      <td>39fd7088-af63-4ad5-8d30-479a720a368b</td>\n",
              "      <td>71.99</td>\n",
              "      <td>-125.29</td>\n",
              "      <td>NaN</td>\n",
              "      <td>NaN</td>\n",
              "      <td>NaN</td>\n",
              "      <td>NaN</td>\n",
              "      <td>NaN</td>\n",
              "      <td>NaN</td>\n",
              "      <td>2018-07-07T00:00:00</td>\n",
              "      <td>7.00</td>\n",
              "      <td>7.00</td>\n",
              "      <td>2018</td>\n",
              "      <td>10827632</td>\n",
              "      <td>10827632.00</td>\n",
              "      <td>PRESERVED_SPECIMEN</td>\n",
              "      <td>RSKM</td>\n",
              "      <td>ENT</td>\n",
              "      <td>RSKM_ENT_E-199704</td>\n",
              "      <td>NaN</td>\n",
              "      <td>Cory S. Sheffield</td>\n",
              "      <td>2020-01-01T00:00:00</td>\n",
              "      <td>CC_BY_4_0</td>\n",
              "      <td>NaN</td>\n",
              "      <td>Collector(s): J.M. Heron</td>\n",
              "      <td>NaN</td>\n",
              "      <td>NaN</td>\n",
              "      <td>2022-11-25T07:54:38.551Z</td>\n",
              "      <td>NaN</td>\n",
              "      <td>OCCURRENCE_STATUS_INFERRED_FROM_INDIVIDUAL_COU...</td>\n",
              "    </tr>\n",
              "    <tr>\n",
              "      <th>3</th>\n",
              "      <td>2885135306</td>\n",
              "      <td>90d8babc-685f-449e-a4ec-7275ca7655c7</td>\n",
              "      <td>426e6fd4-8074-41a4-82ef-8c796837d99e</td>\n",
              "      <td>Animalia</td>\n",
              "      <td>Arthropoda</td>\n",
              "      <td>Insecta</td>\n",
              "      <td>Hymenoptera</td>\n",
              "      <td>Apidae</td>\n",
              "      <td>Bombus</td>\n",
              "      <td>Bombus johanseni</td>\n",
              "      <td>NaN</td>\n",
              "      <td>SPECIES</td>\n",
              "      <td>Bombus johanseni (Sladen, 1919) Sladen, 1919</td>\n",
              "      <td>Bombus johanseni  Sladen</td>\n",
              "      <td>Sladen</td>\n",
              "      <td>CA</td>\n",
              "      <td>Sach's Harbour, Banks Island</td>\n",
              "      <td>Northwest Territories</td>\n",
              "      <td>PRESENT</td>\n",
              "      <td>1.00</td>\n",
              "      <td>39fd7088-af63-4ad5-8d30-479a720a368b</td>\n",
              "      <td>71.99</td>\n",
              "      <td>-125.24</td>\n",
              "      <td>NaN</td>\n",
              "      <td>NaN</td>\n",
              "      <td>NaN</td>\n",
              "      <td>NaN</td>\n",
              "      <td>NaN</td>\n",
              "      <td>NaN</td>\n",
              "      <td>2018-07-04T00:00:00</td>\n",
              "      <td>4.00</td>\n",
              "      <td>7.00</td>\n",
              "      <td>2018</td>\n",
              "      <td>10827632</td>\n",
              "      <td>10827632.00</td>\n",
              "      <td>PRESERVED_SPECIMEN</td>\n",
              "      <td>RSKM</td>\n",
              "      <td>ENT</td>\n",
              "      <td>RSKM_ENT_E-199663</td>\n",
              "      <td>NaN</td>\n",
              "      <td>Cory S. Sheffield</td>\n",
              "      <td>2020-01-01T00:00:00</td>\n",
              "      <td>CC_BY_4_0</td>\n",
              "      <td>NaN</td>\n",
              "      <td>Collector(s): J.M. Heron</td>\n",
              "      <td>NaN</td>\n",
              "      <td>NaN</td>\n",
              "      <td>2022-11-25T07:54:38.562Z</td>\n",
              "      <td>NaN</td>\n",
              "      <td>OCCURRENCE_STATUS_INFERRED_FROM_INDIVIDUAL_COU...</td>\n",
              "    </tr>\n",
              "    <tr>\n",
              "      <th>4</th>\n",
              "      <td>2885135307</td>\n",
              "      <td>90d8babc-685f-449e-a4ec-7275ca7655c7</td>\n",
              "      <td>0c105d9b-1325-4f81-9b29-158ac8eeb6f9</td>\n",
              "      <td>Animalia</td>\n",
              "      <td>Arthropoda</td>\n",
              "      <td>Insecta</td>\n",
              "      <td>Hymenoptera</td>\n",
              "      <td>Apidae</td>\n",
              "      <td>Bombus</td>\n",
              "      <td>Bombus johanseni</td>\n",
              "      <td>NaN</td>\n",
              "      <td>SPECIES</td>\n",
              "      <td>Bombus johanseni (Sladen, 1919) Sladen, 1919</td>\n",
              "      <td>Bombus johanseni  Sladen</td>\n",
              "      <td>Sladen</td>\n",
              "      <td>CA</td>\n",
              "      <td>Sach's Harbour, Banks Island</td>\n",
              "      <td>Northwest Territories</td>\n",
              "      <td>PRESENT</td>\n",
              "      <td>1.00</td>\n",
              "      <td>39fd7088-af63-4ad5-8d30-479a720a368b</td>\n",
              "      <td>71.99</td>\n",
              "      <td>-125.24</td>\n",
              "      <td>NaN</td>\n",
              "      <td>NaN</td>\n",
              "      <td>NaN</td>\n",
              "      <td>NaN</td>\n",
              "      <td>NaN</td>\n",
              "      <td>NaN</td>\n",
              "      <td>2018-07-04T00:00:00</td>\n",
              "      <td>4.00</td>\n",
              "      <td>7.00</td>\n",
              "      <td>2018</td>\n",
              "      <td>10827632</td>\n",
              "      <td>10827632.00</td>\n",
              "      <td>PRESERVED_SPECIMEN</td>\n",
              "      <td>RSKM</td>\n",
              "      <td>ENT</td>\n",
              "      <td>RSKM_ENT_E-199662</td>\n",
              "      <td>NaN</td>\n",
              "      <td>Cory S. Sheffield</td>\n",
              "      <td>2020-01-01T00:00:00</td>\n",
              "      <td>CC_BY_4_0</td>\n",
              "      <td>NaN</td>\n",
              "      <td>Collector(s): J.M. Heron</td>\n",
              "      <td>NaN</td>\n",
              "      <td>NaN</td>\n",
              "      <td>2022-11-25T07:54:38.582Z</td>\n",
              "      <td>NaN</td>\n",
              "      <td>OCCURRENCE_STATUS_INFERRED_FROM_INDIVIDUAL_COU...</td>\n",
              "    </tr>\n",
              "  </tbody>\n",
              "</table>\n",
              "</div>\n",
              "      <button class=\"colab-df-convert\" onclick=\"convertToInteractive('df-77dc2d8e-7e7f-4b61-9ae4-693b67a3c227')\"\n",
              "              title=\"Convert this dataframe to an interactive table.\"\n",
              "              style=\"display:none;\">\n",
              "        \n",
              "  <svg xmlns=\"http://www.w3.org/2000/svg\" height=\"24px\"viewBox=\"0 0 24 24\"\n",
              "       width=\"24px\">\n",
              "    <path d=\"M0 0h24v24H0V0z\" fill=\"none\"/>\n",
              "    <path d=\"M18.56 5.44l.94 2.06.94-2.06 2.06-.94-2.06-.94-.94-2.06-.94 2.06-2.06.94zm-11 1L8.5 8.5l.94-2.06 2.06-.94-2.06-.94L8.5 2.5l-.94 2.06-2.06.94zm10 10l.94 2.06.94-2.06 2.06-.94-2.06-.94-.94-2.06-.94 2.06-2.06.94z\"/><path d=\"M17.41 7.96l-1.37-1.37c-.4-.4-.92-.59-1.43-.59-.52 0-1.04.2-1.43.59L10.3 9.45l-7.72 7.72c-.78.78-.78 2.05 0 2.83L4 21.41c.39.39.9.59 1.41.59.51 0 1.02-.2 1.41-.59l7.78-7.78 2.81-2.81c.8-.78.8-2.07 0-2.86zM5.41 20L4 18.59l7.72-7.72 1.47 1.35L5.41 20z\"/>\n",
              "  </svg>\n",
              "      </button>\n",
              "      \n",
              "  <style>\n",
              "    .colab-df-container {\n",
              "      display:flex;\n",
              "      flex-wrap:wrap;\n",
              "      gap: 12px;\n",
              "    }\n",
              "\n",
              "    .colab-df-convert {\n",
              "      background-color: #E8F0FE;\n",
              "      border: none;\n",
              "      border-radius: 50%;\n",
              "      cursor: pointer;\n",
              "      display: none;\n",
              "      fill: #1967D2;\n",
              "      height: 32px;\n",
              "      padding: 0 0 0 0;\n",
              "      width: 32px;\n",
              "    }\n",
              "\n",
              "    .colab-df-convert:hover {\n",
              "      background-color: #E2EBFA;\n",
              "      box-shadow: 0px 1px 2px rgba(60, 64, 67, 0.3), 0px 1px 3px 1px rgba(60, 64, 67, 0.15);\n",
              "      fill: #174EA6;\n",
              "    }\n",
              "\n",
              "    [theme=dark] .colab-df-convert {\n",
              "      background-color: #3B4455;\n",
              "      fill: #D2E3FC;\n",
              "    }\n",
              "\n",
              "    [theme=dark] .colab-df-convert:hover {\n",
              "      background-color: #434B5C;\n",
              "      box-shadow: 0px 1px 3px 1px rgba(0, 0, 0, 0.15);\n",
              "      filter: drop-shadow(0px 1px 2px rgba(0, 0, 0, 0.3));\n",
              "      fill: #FFFFFF;\n",
              "    }\n",
              "  </style>\n",
              "\n",
              "      <script>\n",
              "        const buttonEl =\n",
              "          document.querySelector('#df-77dc2d8e-7e7f-4b61-9ae4-693b67a3c227 button.colab-df-convert');\n",
              "        buttonEl.style.display =\n",
              "          google.colab.kernel.accessAllowed ? 'block' : 'none';\n",
              "\n",
              "        async function convertToInteractive(key) {\n",
              "          const element = document.querySelector('#df-77dc2d8e-7e7f-4b61-9ae4-693b67a3c227');\n",
              "          const dataTable =\n",
              "            await google.colab.kernel.invokeFunction('convertToInteractive',\n",
              "                                                     [key], {});\n",
              "          if (!dataTable) return;\n",
              "\n",
              "          const docLinkHtml = 'Like what you see? Visit the ' +\n",
              "            '<a target=\"_blank\" href=https://colab.research.google.com/notebooks/data_table.ipynb>data table notebook</a>'\n",
              "            + ' to learn more about interactive tables.';\n",
              "          element.innerHTML = '';\n",
              "          dataTable['output_type'] = 'display_data';\n",
              "          await google.colab.output.renderOutput(dataTable, element);\n",
              "          const docLink = document.createElement('div');\n",
              "          docLink.innerHTML = docLinkHtml;\n",
              "          element.appendChild(docLink);\n",
              "        }\n",
              "      </script>\n",
              "    </div>\n",
              "  </div>\n",
              "  "
            ]
          },
          "metadata": {},
          "execution_count": 56
        }
      ]
    },
    {
      "cell_type": "markdown",
      "source": [
        "Data cleaning:\n",
        "- remove non usefull columns\n",
        "- assign right types, identify categories, dates\n",
        "- rename features: 2 buckets, environment variables (localisation, time, ...) and specimen related\n",
        "- Should I drop the rows where the occurenceId is null?\n",
        "\n",
        "Possible metrics to display:\n",
        "- how long betzwen dateIdentified and lastInterpreted, to get queue processing time -> get we get more performance metrics\n",
        "\n",
        "Possible prediction\n",
        "- predict a future occurence based on previous ones, and when: the occurence could be a disease, or the abscence presence of food, etc ....\n",
        "-> impact of food on population\n",
        "-> impact of bacteria/virus on some populations\n",
        "- found correlation or non correlation between qpecies"
      ],
      "metadata": {
        "id": "GgwiZ84Ky-Fu"
      }
    },
    {
      "cell_type": "code",
      "source": [
        "tokens = df['issue'].str.split(';', expand=True).stack()\n",
        "counts = tokens.value_counts()\n",
        "print(counts)"
      ],
      "metadata": {
        "id": "epWmLx8fEALF",
        "outputId": "5090d713-afb7-4546-f0dc-7798561713d5",
        "colab": {
          "base_uri": "https://localhost:8080/"
        }
      },
      "execution_count": 57,
      "outputs": [
        {
          "output_type": "stream",
          "name": "stdout",
          "text": [
            "INSTITUTION_MATCH_FUZZY                              276698\n",
            "GEODETIC_DATUM_ASSUMED_WGS84                         224727\n",
            "OCCURRENCE_STATUS_INFERRED_FROM_INDIVIDUAL_COUNT     200302\n",
            "COLLECTION_MATCH_FUZZY                               159655\n",
            "AMBIGUOUS_COLLECTION                                 120122\n",
            "COORDINATE_ROUNDED                                    54520\n",
            "INSTITUTION_COLLECTION_MISMATCH                       50669\n",
            "TAXON_MATCH_HIGHERRANK                                22490\n",
            "GEODETIC_DATUM_INVALID                                20759\n",
            "INSTITUTION_MATCH_NONE                                20486\n",
            "COORDINATE_REPROJECTED                                19328\n",
            "COLLECTION_MATCH_NONE                                 17561\n",
            "COORDINATE_PRECISION_INVALID                          17124\n",
            "DIFFERENT_OWNER_INSTITUTION                           13675\n",
            "AMBIGUOUS_INSTITUTION                                 10326\n",
            "PRESUMED_NEGATED_LONGITUDE                             7154\n",
            "RECORDED_DATE_INVALID                                  5671\n",
            "REFERENCES_URI_INVALID                                 3502\n",
            "TAXON_MATCH_FUZZY                                      3103\n",
            "COORDINATE_INVALID                                     2805\n",
            "RECORDED_DATE_UNLIKELY                                 1237\n",
            "TYPE_STATUS_INVALID                                    1106\n",
            "COUNTRY_COORDINATE_MISMATCH                             993\n",
            "TAXON_MATCH_NONE                                        861\n",
            "COUNTRY_DERIVED_FROM_COORDINATES                        721\n",
            "MODIFIED_DATE_UNLIKELY                                  708\n",
            "FOOTPRINT_WKT_INVALID                                   541\n",
            "ELEVATION_NON_NUMERIC                                   489\n",
            "COUNTRY_MISMATCH                                        411\n",
            "COUNTRY_INVALID                                         404\n",
            "MULTIMEDIA_DATE_INVALID                                 318\n",
            "COORDINATE_OUT_OF_RANGE                                 174\n",
            "OCCURRENCE_STATUS_INFERRED_FROM_BASIS_OF_RECORD         169\n",
            "IDENTIFIED_DATE_UNLIKELY                                146\n",
            "COORDINATE_UNCERTAINTY_METERS_INVALID                   137\n",
            "INDIVIDUAL_COUNT_INVALID                                100\n",
            "ELEVATION_MIN_MAX_SWAPPED                                95\n",
            "DEPTH_NON_NUMERIC                                        50\n",
            "DEPTH_MIN_MAX_SWAPPED                                    39\n",
            "PRESUMED_NEGATED_LATITUDE                                 9\n",
            "INDIVIDUAL_COUNT_CONFLICTS_WITH_OCCURRENCE_STATUS         4\n",
            "DEPTH_UNLIKELY                                            4\n",
            "ZERO_COORDINATE                                           3\n",
            "BASIS_OF_RECORD_INVALID                                   3\n",
            "MULTIMEDIA_URI_INVALID                                    2\n",
            "dtype: int64\n"
          ]
        }
      ]
    },
    {
      "cell_type": "code",
      "source": [
        "for col in ['gbifID', 'datasetKey', 'occurrenceID']:\n",
        "    uniq = df[col].nunique()\n",
        "    nonnull = df[col].count()\n",
        "    print(f\"Column {col}: {uniq} unique values, {nonnull} non-null values\")"
      ],
      "metadata": {
        "id": "Q6z6JXkaECsg",
        "outputId": "d7655aaf-c172-42aa-e36c-394cd7b54a87",
        "colab": {
          "base_uri": "https://localhost:8080/"
        }
      },
      "execution_count": 58,
      "outputs": [
        {
          "output_type": "stream",
          "name": "stdout",
          "text": [
            "Column gbifID: 616318 unique values, 616318 non-null values\n",
            "Column datasetKey: 268 unique values, 616318 non-null values\n",
            "Column occurrenceID: 611549 unique values, 616301 non-null values\n"
          ]
        }
      ]
    },
    {
      "cell_type": "code",
      "source": [
        "df = df.drop(columns=[\n",
        "    \"verbatimScientificNameAuthorship\",\n",
        "    \"verbatimScientificName\",\n",
        "    \"recordNumber\",\n",
        "    \"catalogNumber\",\n",
        "    \"taxonKey\",\n",
        "    \"speciesKey\",\n",
        "    \"year\",\n",
        "    \"month\",\n",
        "    \"day\",\n",
        "    \"datasetKey\",\n",
        "    \"occurrenceID\"\n",
        "])\n",
        "df.info()"
      ],
      "metadata": {
        "id": "ezGI1YFAEGBO",
        "outputId": "9d99637f-65f5-49af-f1ba-51f311570254",
        "colab": {
          "base_uri": "https://localhost:8080/"
        }
      },
      "execution_count": 59,
      "outputs": [
        {
          "output_type": "stream",
          "name": "stdout",
          "text": [
            "<class 'pandas.core.frame.DataFrame'>\n",
            "RangeIndex: 616318 entries, 0 to 616317\n",
            "Data columns (total 39 columns):\n",
            " #   Column                         Non-Null Count   Dtype  \n",
            "---  ------                         --------------   -----  \n",
            " 0   gbifID                         616318 non-null  int64  \n",
            " 1   kingdom                        616318 non-null  object \n",
            " 2   phylum                         613735 non-null  object \n",
            " 3   class                          563890 non-null  object \n",
            " 4   order                          540768 non-null  object \n",
            " 5   family                         591741 non-null  object \n",
            " 6   genus                          530786 non-null  object \n",
            " 7   species                        455886 non-null  object \n",
            " 8   infraspecificEpithet           21782 non-null   object \n",
            " 9   taxonRank                      616318 non-null  object \n",
            " 10  scientificName                 616318 non-null  object \n",
            " 11  countryCode                    613282 non-null  object \n",
            " 12  locality                       499963 non-null  object \n",
            " 13  stateProvince                  594805 non-null  object \n",
            " 14  occurrenceStatus               616318 non-null  object \n",
            " 15  individualCount                253318 non-null  float64\n",
            " 16  publishingOrgKey               616318 non-null  object \n",
            " 17  decimalLatitude                536572 non-null  float64\n",
            " 18  decimalLongitude               536572 non-null  float64\n",
            " 19  coordinateUncertaintyInMeters  169598 non-null  float64\n",
            " 20  coordinatePrecision            120 non-null     float64\n",
            " 21  elevation                      131838 non-null  float64\n",
            " 22  elevationAccuracy              77630 non-null   float64\n",
            " 23  depth                          11972 non-null   float64\n",
            " 24  depthAccuracy                  5689 non-null    float64\n",
            " 25  eventDate                      616318 non-null  object \n",
            " 26  basisOfRecord                  616318 non-null  object \n",
            " 27  institutionCode                515538 non-null  object \n",
            " 28  collectionCode                 500744 non-null  object \n",
            " 29  identifiedBy                   329860 non-null  object \n",
            " 30  dateIdentified                 205128 non-null  object \n",
            " 31  license                        616318 non-null  object \n",
            " 32  rightsHolder                   235486 non-null  object \n",
            " 33  recordedBy                     498483 non-null  object \n",
            " 34  typeStatus                     1353 non-null    object \n",
            " 35  establishmentMeans             34958 non-null   object \n",
            " 36  lastInterpreted                616318 non-null  object \n",
            " 37  mediaType                      73511 non-null   object \n",
            " 38  issue                          518132 non-null  object \n",
            "dtypes: float64(9), int64(1), object(29)\n",
            "memory usage: 183.4+ MB\n"
          ]
        }
      ]
    },
    {
      "cell_type": "code",
      "source": [
        "# some of the properties have low cardinality... If I can not extrapolate or makes sense of the values, better to drop them.\n",
        "# Create a list of tuples containing the column name and its null value ratio\n",
        "ratios = [(col, round(df[col].isnull().sum() / df[col].shape[0], 2)) for col in df.columns]\n",
        "# Sort the list by the null value ratio\n",
        "from operator import itemgetter\n",
        "ratios = sorted(ratios, key=itemgetter(1), reverse=True)\n",
        "# Print the sorted list\n",
        "print(\"\\n\".join(f\"{col} {ratio}\" for col, ratio in ratios))"
      ],
      "metadata": {
        "id": "fJqaXK7jEIcl",
        "outputId": "c0f309a2-2d67-4680-997e-cbfe61bb232a",
        "colab": {
          "base_uri": "https://localhost:8080/"
        }
      },
      "execution_count": 60,
      "outputs": [
        {
          "output_type": "stream",
          "name": "stdout",
          "text": [
            "coordinatePrecision 1.0\n",
            "typeStatus 1.0\n",
            "depthAccuracy 0.99\n",
            "depth 0.98\n",
            "infraspecificEpithet 0.96\n",
            "establishmentMeans 0.94\n",
            "mediaType 0.88\n",
            "elevationAccuracy 0.87\n",
            "elevation 0.79\n",
            "coordinateUncertaintyInMeters 0.72\n",
            "dateIdentified 0.67\n",
            "rightsHolder 0.62\n",
            "individualCount 0.59\n",
            "identifiedBy 0.46\n",
            "species 0.26\n",
            "locality 0.19\n",
            "collectionCode 0.19\n",
            "recordedBy 0.19\n",
            "institutionCode 0.16\n",
            "issue 0.16\n",
            "genus 0.14\n",
            "decimalLatitude 0.13\n",
            "decimalLongitude 0.13\n",
            "order 0.12\n",
            "class 0.09\n",
            "family 0.04\n",
            "stateProvince 0.03\n",
            "gbifID 0.0\n",
            "kingdom 0.0\n",
            "phylum 0.0\n",
            "taxonRank 0.0\n",
            "scientificName 0.0\n",
            "countryCode 0.0\n",
            "occurrenceStatus 0.0\n",
            "publishingOrgKey 0.0\n",
            "eventDate 0.0\n",
            "basisOfRecord 0.0\n",
            "license 0.0\n",
            "lastInterpreted 0.0\n"
          ]
        }
      ]
    },
    {
      "cell_type": "code",
      "source": [
        "df = df.drop(columns=[\"coordinatePrecision\",\n",
        "                     \"typeStatus\",\n",
        "                     \"depthAccuracy\",\n",
        "                     \"establishmentMeans\",\n",
        "                     \"mediaType\",\n",
        "                     \"elevationAccuracy\",\n",
        "                     \"coordinateUncertaintyInMeters\",\n",
        "                     \"rightsHolder\",\n",
        "                     \"identifiedBy\",\n",
        "                     \"license\",\n",
        "                     \"recordedBy\",\n",
        "                     \"collectionCode\",\n",
        "                     \"institutionCode\"])"
      ],
      "metadata": {
        "id": "rdsiWWxYEKrl"
      },
      "execution_count": 61,
      "outputs": []
    },
    {
      "cell_type": "code",
      "source": [
        "dateColumnNames = {\"lastInterpreted\":\"lastInterpretationDate\",\"dateIdentified\":\"identificationDate\",\"eventDate\":\"eventObservationDate\"}\n",
        "df = df.rename(columns=dateColumnNames)\n",
        "\n",
        "env_columns = [\"countryCode\",\"locality\",\"stateProvince\",\"decimalLatitude\",\"decimalLongitude\",\"elevation\",\"depth\",\"eventObservationDate\"]\n",
        "meta_columns = [\"occurrenceStatus\",\"individualCount\",\"basisOfRecord\",\"typeStatus\",\"establishmentMeans\",\"lastInterpretationDate\",\"publishingOrgKey\",\"identificationDate\"]\n",
        "species_colums=[\"kingdom\",\"phylum\",\"class\",\"order\",\"family\",\"genus\",\"species\",\"infraspecificEpithet\",\"taxonRank\",\"scientificName\",\"issue\"]\n",
        "\n",
        "df = df.rename(columns={col:\"env_\"+col for col in env_columns})\n",
        "df = df.rename(columns={col:\"meta_\"+col for col in meta_columns})\n",
        "df = df.rename(columns={col:\"species_\"+col for col in species_colums})\n",
        "\n",
        "df.info()"
      ],
      "metadata": {
        "id": "SRkvVigUEN02",
        "outputId": "a127f066-67d9-47bf-96ee-2a271221b79c",
        "colab": {
          "base_uri": "https://localhost:8080/"
        }
      },
      "execution_count": 62,
      "outputs": [
        {
          "output_type": "stream",
          "name": "stdout",
          "text": [
            "<class 'pandas.core.frame.DataFrame'>\n",
            "RangeIndex: 616318 entries, 0 to 616317\n",
            "Data columns (total 26 columns):\n",
            " #   Column                        Non-Null Count   Dtype  \n",
            "---  ------                        --------------   -----  \n",
            " 0   gbifID                        616318 non-null  int64  \n",
            " 1   species_kingdom               616318 non-null  object \n",
            " 2   species_phylum                613735 non-null  object \n",
            " 3   species_class                 563890 non-null  object \n",
            " 4   species_order                 540768 non-null  object \n",
            " 5   species_family                591741 non-null  object \n",
            " 6   species_genus                 530786 non-null  object \n",
            " 7   species_species               455886 non-null  object \n",
            " 8   species_infraspecificEpithet  21782 non-null   object \n",
            " 9   species_taxonRank             616318 non-null  object \n",
            " 10  species_scientificName        616318 non-null  object \n",
            " 11  env_countryCode               613282 non-null  object \n",
            " 12  env_locality                  499963 non-null  object \n",
            " 13  env_stateProvince             594805 non-null  object \n",
            " 14  meta_occurrenceStatus         616318 non-null  object \n",
            " 15  meta_individualCount          253318 non-null  float64\n",
            " 16  meta_publishingOrgKey         616318 non-null  object \n",
            " 17  env_decimalLatitude           536572 non-null  float64\n",
            " 18  env_decimalLongitude          536572 non-null  float64\n",
            " 19  env_elevation                 131838 non-null  float64\n",
            " 20  env_depth                     11972 non-null   float64\n",
            " 21  env_eventObservationDate      616318 non-null  object \n",
            " 22  meta_basisOfRecord            616318 non-null  object \n",
            " 23  meta_identificationDate       205128 non-null  object \n",
            " 24  meta_lastInterpretationDate   616318 non-null  object \n",
            " 25  species_issue                 518132 non-null  object \n",
            "dtypes: float64(5), int64(1), object(20)\n",
            "memory usage: 122.3+ MB\n"
          ]
        }
      ]
    },
    {
      "cell_type": "code",
      "source": [
        "dateColumnNames = [\"meta_lastInterpretationDate\",\"meta_identificationDate\",\"env_eventObservationDate\"]\n",
        "\n",
        "for col in dateColumnNames:\n",
        "    df[col] = pd.to_datetime(df[col], infer_datetime_format=True, utc=True, errors=\"coerce\")"
      ],
      "metadata": {
        "id": "O3wGyOkDEW0b"
      },
      "execution_count": 63,
      "outputs": []
    },
    {
      "cell_type": "code",
      "source": [
        "object_columns = df.select_dtypes(include=['object']).columns.tolist()\n",
        "\n",
        "for col in object_columns:\n",
        "    ratio = df[col].nunique() / df[col].count()\n",
        "    print(f\"Ratio of unique values to rows for column '{col}': {ratio:.2f}\")"
      ],
      "metadata": {
        "id": "HW1ct7luEXYG",
        "outputId": "49bc8d6c-9dfa-4fc6-ea1b-53fbd0d4fa56",
        "colab": {
          "base_uri": "https://localhost:8080/"
        }
      },
      "execution_count": 64,
      "outputs": [
        {
          "output_type": "stream",
          "name": "stdout",
          "text": [
            "Ratio of unique values to rows for column 'species_kingdom': 0.00\n",
            "Ratio of unique values to rows for column 'species_phylum': 0.00\n",
            "Ratio of unique values to rows for column 'species_class': 0.00\n",
            "Ratio of unique values to rows for column 'species_order': 0.00\n",
            "Ratio of unique values to rows for column 'species_family': 0.01\n",
            "Ratio of unique values to rows for column 'species_genus': 0.03\n",
            "Ratio of unique values to rows for column 'species_species': 0.09\n",
            "Ratio of unique values to rows for column 'species_infraspecificEpithet': 0.13\n",
            "Ratio of unique values to rows for column 'species_taxonRank': 0.00\n",
            "Ratio of unique values to rows for column 'species_scientificName': 0.09\n",
            "Ratio of unique values to rows for column 'env_countryCode': 0.00\n",
            "Ratio of unique values to rows for column 'env_locality': 0.13\n",
            "Ratio of unique values to rows for column 'env_stateProvince': 0.00\n",
            "Ratio of unique values to rows for column 'meta_occurrenceStatus': 0.00\n",
            "Ratio of unique values to rows for column 'meta_publishingOrgKey': 0.00\n",
            "Ratio of unique values to rows for column 'meta_basisOfRecord': 0.00\n",
            "Ratio of unique values to rows for column 'species_issue': 0.00\n"
          ]
        }
      ]
    },
    {
      "cell_type": "code",
      "source": [
        "df[object_columns] = df[object_columns].astype('category')"
      ],
      "metadata": {
        "id": "g64fDSdgEa6a"
      },
      "execution_count": 65,
      "outputs": []
    },
    {
      "cell_type": "code",
      "source": [
        "floats = df.select_dtypes(include=['float64']).columns.tolist()\n",
        "df[floats] = df[floats].apply(pd.to_numeric, downcast='float')\n",
        "\n",
        "df[floats].info()"
      ],
      "metadata": {
        "id": "Ezy2SJIxEbS4",
        "outputId": "3d1abbb0-5a61-4b9c-878a-435a3fa04878",
        "colab": {
          "base_uri": "https://localhost:8080/"
        }
      },
      "execution_count": 66,
      "outputs": [
        {
          "output_type": "stream",
          "name": "stdout",
          "text": [
            "<class 'pandas.core.frame.DataFrame'>\n",
            "RangeIndex: 616318 entries, 0 to 616317\n",
            "Data columns (total 5 columns):\n",
            " #   Column                Non-Null Count   Dtype  \n",
            "---  ------                --------------   -----  \n",
            " 0   meta_individualCount  253318 non-null  float32\n",
            " 1   env_decimalLatitude   536572 non-null  float32\n",
            " 2   env_decimalLongitude  536572 non-null  float32\n",
            " 3   env_elevation         131838 non-null  float32\n",
            " 4   env_depth             11972 non-null   float32\n",
            "dtypes: float32(5)\n",
            "memory usage: 11.8 MB\n"
          ]
        }
      ]
    },
    {
      "cell_type": "code",
      "source": [
        "print(df[['env_depth', 'env_elevation']].describe().loc[['min', 'max']])"
      ],
      "metadata": {
        "id": "YxTgHb1OEdA4",
        "outputId": "ea33e01d-6d79-438e-d64e-fb8a206e6dd6",
        "colab": {
          "base_uri": "https://localhost:8080/"
        }
      },
      "execution_count": 67,
      "outputs": [
        {
          "output_type": "stream",
          "name": "stdout",
          "text": [
            "     env_depth  env_elevation\n",
            "min       0.00        -339.00\n",
            "max    5832.04       16917.50\n"
          ]
        }
      ]
    },
    {
      "cell_type": "code",
      "source": [
        "df = df.rename(columns={\"env_depth\": \"env_depthInMeters\", \"env_elevation\": \"env_elevationInMeters\"})\n",
        "df[['env_depthInMeters', 'env_elevationInMeters']] = (df[['env_depthInMeters', 'env_elevationInMeters']] * 0.3048).fillna(0).round(1).astype(\"float32\")"
      ],
      "metadata": {
        "id": "TPI3DeRlEhj5"
      },
      "execution_count": 68,
      "outputs": []
    },
    {
      "cell_type": "code",
      "source": [
        "print(df[['meta_individualCount']].describe().loc[['min', 'max']])"
      ],
      "metadata": {
        "id": "MlaHJjLVEh8P",
        "outputId": "7507ba42-6826-4537-b772-da6753b111cb",
        "colab": {
          "base_uri": "https://localhost:8080/"
        }
      },
      "execution_count": 69,
      "outputs": [
        {
          "output_type": "stream",
          "name": "stdout",
          "text": [
            "     meta_individualCount\n",
            "min                  0.00\n",
            "max              49000.00\n"
          ]
        }
      ]
    },
    {
      "cell_type": "code",
      "source": [
        "df['meta_individualCount'].fillna(0, inplace=True)\n",
        "df['meta_individualCount'] = pd.to_numeric(df['meta_individualCount'], downcast='integer', errors='coerce')"
      ],
      "metadata": {
        "id": "gcZ6f_I3HBA2"
      },
      "execution_count": 70,
      "outputs": []
    },
    {
      "cell_type": "code",
      "source": [
        "df.info()"
      ],
      "metadata": {
        "id": "YgildMYDEmy8",
        "outputId": "d98ae7da-b9a5-4939-c627-f017e5015edf",
        "colab": {
          "base_uri": "https://localhost:8080/"
        }
      },
      "execution_count": 71,
      "outputs": [
        {
          "output_type": "stream",
          "name": "stdout",
          "text": [
            "<class 'pandas.core.frame.DataFrame'>\n",
            "RangeIndex: 616318 entries, 0 to 616317\n",
            "Data columns (total 26 columns):\n",
            " #   Column                        Non-Null Count   Dtype              \n",
            "---  ------                        --------------   -----              \n",
            " 0   gbifID                        616318 non-null  int64              \n",
            " 1   species_kingdom               616318 non-null  category           \n",
            " 2   species_phylum                613735 non-null  category           \n",
            " 3   species_class                 563890 non-null  category           \n",
            " 4   species_order                 540768 non-null  category           \n",
            " 5   species_family                591741 non-null  category           \n",
            " 6   species_genus                 530786 non-null  category           \n",
            " 7   species_species               455886 non-null  category           \n",
            " 8   species_infraspecificEpithet  21782 non-null   category           \n",
            " 9   species_taxonRank             616318 non-null  category           \n",
            " 10  species_scientificName        616318 non-null  category           \n",
            " 11  env_countryCode               613282 non-null  category           \n",
            " 12  env_locality                  499963 non-null  category           \n",
            " 13  env_stateProvince             594805 non-null  category           \n",
            " 14  meta_occurrenceStatus         616318 non-null  category           \n",
            " 15  meta_individualCount          616318 non-null  int32              \n",
            " 16  meta_publishingOrgKey         616318 non-null  category           \n",
            " 17  env_decimalLatitude           536572 non-null  float32            \n",
            " 18  env_decimalLongitude          536572 non-null  float32            \n",
            " 19  env_elevationInMeters         616318 non-null  float32            \n",
            " 20  env_depthInMeters             616318 non-null  float32            \n",
            " 21  env_eventObservationDate      616318 non-null  datetime64[ns, UTC]\n",
            " 22  meta_basisOfRecord            616318 non-null  category           \n",
            " 23  meta_identificationDate       205123 non-null  datetime64[ns, UTC]\n",
            " 24  meta_lastInterpretationDate   616318 non-null  datetime64[ns, UTC]\n",
            " 25  species_issue                 518132 non-null  category           \n",
            "dtypes: category(17), datetime64[ns, UTC](3), float32(4), int32(1), int64(1)\n",
            "memory usage: 57.1 MB\n"
          ]
        }
      ]
    },
    {
      "cell_type": "markdown",
      "source": [
        "DONE"
      ],
      "metadata": {
        "id": "y-wO7nOdEohk"
      }
    },
    {
      "cell_type": "code",
      "source": [
        "df[\"collectionCode\"].unique()\n",
        "df[\"institutionCode\"].value_counts()\n",
        "\n",
        "# let's compute some metrics about the data freshness to subselect the data that make the more sense for us. Not sure we really care about this info if all we want to do is predict occurence of events or diagnose causes.\n",
        "# avg time between observation and interpretation, per kingdom\n",
        "# avg time between observation and interpretation, per country\n",
        "# avg time between observation and interpretation, per org\n",
        "# first we need to decompose the interpretation time, in day/month/year "
      ],
      "metadata": {
        "id": "0kqTDL2XKyfE"
      },
      "execution_count": null,
      "outputs": []
    },
    {
      "cell_type": "code",
      "source": [
        "# Dropping some data that looks duplicated or that does not useful at the moment\n",
        "nonUsefulColumns = [\"verbatimScientificNameAuthorship\",\"scientificName\",\"gbifID\",\"mediaType\",\"issue\",\"license\",\"rightsHolder\",\"recordNumber\",\"catalogNumber\",\"taxonKey\",\"speciesKey\"]\n",
        "df=df.drop(columns=nonUsefulColumns, errors='ignore')\n",
        "\n",
        "# Planning to rename some columns to make them more begginer understandable...\n",
        "speciesFeatures=[\"kingdom\",\"phylum\",\"class\",\"order\",\"family\",\"genus\",\"species\",\"infraspecificEpithet\",\"taxonRank\",\"scientificName\",\"verbatimScientificName\",\"verbatimScientificNameAuthorship\"]\n",
        "# Create a dictionary mapping the old column names to the new column names\n",
        "rename_dict = {col: \"species_\" + col for col in speciesFeatures}\n",
        "# Rename the columns using the rename() method\n",
        "df = df.rename(columns=rename_dict)"
      ],
      "metadata": {
        "id": "34TD7-zhzPri"
      },
      "execution_count": null,
      "outputs": []
    },
    {
      "cell_type": "code",
      "source": [
        "df.info()"
      ],
      "metadata": {
        "id": "glwimD7mHvpb"
      },
      "execution_count": null,
      "outputs": []
    },
    {
      "cell_type": "code",
      "source": [
        "#let's focus on one part of the dataset\n",
        "print(df[\"species_kingdom\"].value_counts())\n",
        "print(df[\"countryCode\"].value_counts())"
      ],
      "metadata": {
        "id": "G2I__wTr4WER"
      },
      "execution_count": null,
      "outputs": []
    },
    {
      "cell_type": "code",
      "source": [
        "#I will focus only on the US but still keep all the specicies, since it could be interesting to correlate species presence for now.\n",
        "#df=df[(df[\"countryCode\"]==\"US\") & (df[\"kingdom\"]==\"Animalia\")]\n",
        "df=df[(df[\"countryCode\"]==\"US\")]\n",
        "df.info()"
      ],
      "metadata": {
        "id": "Wzf9oPs459TM"
      },
      "execution_count": null,
      "outputs": []
    },
    {
      "cell_type": "code",
      "source": [
        "df.head()"
      ],
      "metadata": {
        "id": "TxqZbX3rRwLO"
      },
      "execution_count": null,
      "outputs": []
    },
    {
      "cell_type": "code",
      "source": [
        "#After this first cleaning the dataset went from 183.4+ MB to 148.9+ MB\n",
        "\n",
        "# I see 3 types of data: eventDate, dateIdentified and lastInterpreted. \n",
        "# I will rename them to make them more explicit, and assign the right type and check if it impacts the memory usage. Ultimately I can drop the dateIdentified since almost 2 third is not set...\n",
        "dateColumnNames = {\"lastInterpreted\":\"lastInterpretationDate\",\"dateIdentified\":\"identificationDate\",\"eventDate\":\"eventObservationDate\"}\n",
        "df = df.rename(columns=dateColumnNames)\n",
        "\n",
        "\n",
        "# let's assign the right dtype. However, one column contains dates in UTC timezone, the 2 others we don't know timezone... So I will consider that it's UTC too and force it, because else it's just wild guess assumptions... \n",
        "# I do not worry about any date format at this point.\n",
        "\n",
        "# df[dateColumnNames.values()] = pd.to_datetime(df[dateColumnNames.values()], infer_datetime_format=True, errors=\"coerce\")\n",
        "#df[\"lastInterpretationDate\"] = pd.to_datetime(df[\"lastInterpretationDate\"], infer_datetime_format=True, errors=\"coerce\")\n",
        "#df[\"identificationDate\"] = pd.to_datetime(df[\"identificationDate\"], infer_datetime_format=True, errors=\"coerce\")\n",
        "for col in dateColumnNames.values():\n",
        "    # Convert column to datetime data type\n",
        "    df[col] = pd.to_datetime(df[col], infer_datetime_format=True, utc=True, errors=\"coerce\")"
      ],
      "metadata": {
        "id": "MeoNJ6IvSVOy"
      },
      "execution_count": null,
      "outputs": []
    },
    {
      "cell_type": "code",
      "source": [
        "print(f\"Memory usage: {df.memory_usage(deep=True).sum()} bytes\")\n",
        "missing_count = df[dateColumnNames.values()].isnull().sum()\n",
        "print(missing_count)"
      ],
      "metadata": {
        "id": "HLJqbvqfWI9x"
      },
      "execution_count": null,
      "outputs": []
    },
    {
      "cell_type": "code",
      "source": [
        "#Finally, I see that identificationDate has a lot of missing values which makes it useless for me. So I will just drop it.\n",
        "df = df.drop(columns=\"identificationDate\")"
      ],
      "metadata": {
        "id": "8r_OHaqvS1Oq"
      },
      "execution_count": null,
      "outputs": []
    },
    {
      "cell_type": "code",
      "source": [
        "df.info()"
      ],
      "metadata": {
        "id": "WWUGF7FhUIR0"
      },
      "execution_count": null,
      "outputs": []
    },
    {
      "cell_type": "code",
      "source": [
        "# Now that I have datetime objects, I don't need independent day/month/year properties. Even more if some of them have null values\n",
        "df = df.drop(columns=[\"day\",\"month\",\"year\"])\n",
        "df.info()"
      ],
      "metadata": {
        "id": "yN7xvLgOcVuM"
      },
      "execution_count": null,
      "outputs": []
    },
    {
      "cell_type": "code",
      "source": [
        "# I will continue assigning correct dtype. The current memory usage is 134.0+ MB\n",
        "# I will start that the columns that probably should be a category. Certainly all the column that helps classify the species should be a good target\n",
        "column_list = df.filter(regex=\"species_\").columns\n",
        "for col in column_list:\n",
        "    ratio = df[col].nunique() / df.shape[0]\n",
        "    print(f\"Ratio of unique values to rows for column '{col}': {ratio:.2f}\")"
      ],
      "metadata": {
        "id": "9TVC3dWYdHic"
      },
      "execution_count": null,
      "outputs": []
    },
    {
      "cell_type": "code",
      "source": [
        "# Looks like good target indeed!\n",
        "# \"genus\", \"family\" and \"species\" and \"verbatimspecific name\" might not be good candidate since the cardinality is still high. I will revisit the choice later.\n",
        "category_list = list(filter(lambda x: x not in [\"species_species\",\"species_family\",\"species_genus\",\"species_verbatimScientificName\"], column_list))\n",
        "df[category_list] = df[category_list].astype('category')\n",
        "df.info()"
      ],
      "metadata": {
        "id": "-2XdEDxSmtjW"
      },
      "execution_count": null,
      "outputs": []
    },
    {
      "cell_type": "code",
      "source": [
        "# I will do the same thing for the other columns.\n",
        "# First I will rename to group some of them ...\n",
        "env_columns = [\"countryCode\",\"locality\",\"stateProvince\",\"decimalLatitude\",\"decimalLongitude\",\"coordinateUncertaintyInMeters\",\"coordinatePrecision\",\"elevation\",\"elevationAccuracy\",\"depth\",\"depthAccuracy\",\"eventObservationDate\"]\n",
        "meta_column = [\"occurrenceStatus\",\"individualCount\",\"publishingOrgKey\",\"basisOfRecord\",\"institutionCode\",\"collectionCode\",\"identifiedBy\",\"recordedBy\",\"typeStatus\",\"establishmentMeans\",\"lastInterpretationDate\"]\n",
        "\n",
        "df = df.rename(columns={col:\"env_\"+col for col in env_columns})\n",
        "df = df.rename(columns={col:\"meta_\"+col for col in meta_column})\n",
        "\n",
        "df.info()"
      ],
      "metadata": {
        "id": "kKVfPmWLvsRU"
      },
      "execution_count": null,
      "outputs": []
    },
    {
      "cell_type": "code",
      "source": [
        "# some of the properties have low cardinality... If I can not extrapolate or makes sense of the values, better to drop them.\n",
        "# I will compute the ration # values / # null values for each columns\n",
        "for col in df.columns:\n",
        "    # Calculate the ratio of null values\n",
        "    ratio = df[col].isnull().sum() / df[col].shape[0]\n",
        "    # Print the ratio\n",
        "    print(f\"ratio null value for column {col}: {ratio}\")"
      ],
      "metadata": {
        "id": "Oh1iBBzn1ZIG"
      },
      "execution_count": null,
      "outputs": []
    },
    {
      "cell_type": "code",
      "source": [
        "# I will drop all the precision/accuracy columns: lot of null values and no idea how I could extrapolate them meaningfully. For CoordinateUncertainty, I could assign also 0 to null values, but I won't use it, so I drop it too.\n",
        "df = df.drop(columns=[\"env_coordinateUncertaintyInMeters\",\"env_coordinatePrecision\",\"env_elevationAccuracy\",\"env_depthAccuracy\"])\n",
        "# \"meta_identifiedBy\" and \"meta_establishmentMeans\" also have a high level of null values and I have no usage of \"meta_recordedBy\"\n",
        "df = df.drop(columns=[\"meta_identifiedBy\",\"meta_establishmentMeans\",\"meta_recordedBy\"])"
      ],
      "metadata": {
        "id": "YCrWefDCAdJ4"
      },
      "execution_count": null,
      "outputs": []
    },
    {
      "cell_type": "code",
      "source": [
        "# depth and elevation are also high, but I will keep them and assume that null means 0 level\n",
        "# At the same time I will assign the right numeric dtype and round/trunc when needed: float is ok, 1 decimal precision.\n",
        "# By looking and the range, I also deduce that they are in feet. I will convert them to meters and will rename them appropraitely\n",
        "print(df[['env_depth', 'env_elevation']].describe().loc[['min', 'max']])\n",
        "df = df.rename(columns={\"env_depth\": \"env_depthInMeters\", \"env_elevation\": \"env_elevationInMeters\"})\n",
        "df[['env_depthInMeters', 'env_elevationInMeters']] = (df[['env_depthInMeters', 'env_elevationInMeters']] * 0.3048).fillna(0).astype(\"float32\").round(1)\n",
        "df.info()"
      ],
      "metadata": {
        "id": "mHmtU2kNs930"
      },
      "execution_count": null,
      "outputs": []
    },
    {
      "cell_type": "code",
      "source": [
        "print(df[['env_depthInMeters', 'env_elevationInMeters']].describe().loc[['min', 'max']])"
      ],
      "metadata": {
        "id": "BqwH6ZcwHOQ-"
      },
      "execution_count": null,
      "outputs": []
    },
    {
      "cell_type": "code",
      "source": [
        "df[[\"env_stateProvince\", \"env_countryCode\"]] = df[[\"env_stateProvince\", \"env_countryCode\"]].astype(\"category\")"
      ],
      "metadata": {
        "id": "WqsUCFdmH6iz"
      },
      "execution_count": null,
      "outputs": []
    },
    {
      "cell_type": "code",
      "source": [
        "df.info()"
      ],
      "metadata": {
        "id": "KupH3DYaJkOh"
      },
      "execution_count": null,
      "outputs": []
    },
    {
      "cell_type": "code",
      "source": [
        "# The previous conversions should have helped save memory usage but it does not look like that right now -> need to check differently.\n",
        "memory_usage = df['coordinatePrecision'].memory_usage(deep=False)\n",
        "print(memory_usage)\n",
        "year = df['year'].memory_usage(deep=True)\n",
        "print(year)\n",
        "\n",
        "rows = df[df['identificationDate'].notnull() & (df['lastInterpretationDate'].ne(df['identificationDate']))]\n",
        "num_rows = rows.shape[0]\n",
        "\n",
        "print(f\"Number of rows: {num_rows}\")\n",
        "\n"
      ],
      "metadata": {
        "id": "XtdlxqWxjw1u"
      },
      "execution_count": null,
      "outputs": []
    },
    {
      "cell_type": "code",
      "source": [
        "df['basisOfRecord'].value_counts()"
      ],
      "metadata": {
        "id": "Pe_wxguA_s6Q"
      },
      "execution_count": null,
      "outputs": []
    },
    {
      "cell_type": "code",
      "source": [
        "df.nunique().index[df.nunique() <=2 ]\n",
        "df[\"establishmentMeans\"].unique()\n",
        "df['establishmentMeans'].value_counts()\n",
        "unique_value_counts = df.nunique()\n",
        "\n",
        "# Sort the DataFrame by the unique value counts and get the sorted column names\n",
        "sorted_columns = unique_value_counts.sort_values(ascending=False).index\n",
        "\n",
        "# Print the sorted list of column names\n",
        "print(sorted_columns)"
      ],
      "metadata": {
        "id": "2IjGVnwZOoez"
      },
      "execution_count": null,
      "outputs": []
    },
    {
      "cell_type": "code",
      "source": [
        "# Generate an interactive HTML report\n",
        "profile = ProfileReport(df, title=\"Pandas Profiling Report\")\n",
        "\n",
        "# Display the report\n",
        "profile.to_notebook_iframe()"
      ],
      "metadata": {
        "id": "4vVYpXU9ZWnN"
      },
      "execution_count": null,
      "outputs": []
    },
    {
      "cell_type": "code",
      "execution_count": null,
      "metadata": {
        "id": "jBuk0Ks-QO8V"
      },
      "outputs": [],
      "source": [
        "# Determine which species and geographic regions to focus on\n",
        "# You might want to use df.groupby() and df.describe() to explore the data and identify trends or patterns\n",
        "\n",
        "# Filter the data\n",
        "# Use df.loc[] to select only the rows and columns of interest\n",
        "# For example, to select only rows for a specific species, use df.loc[df['species'] == 'species_name']\n",
        "\n",
        "# Clean the data\n",
        "# Use df.dropna() or df.fillna() to remove or impute missing values\n",
        "# Use df.apply() or df.map() to apply custom transformations to the data\n",
        "\n",
        "# Save the cleaned and filtered data to a new file\n",
        "# Use df.to_csv() to save the data to a CSV file\n",
        "# Replace 'path/to/cleaned_data.csv' with the filepath where you want to save the cleaned data\n",
        "df.to_csv('path/to/cleaned_data.csv', index=False)"
      ]
    }
  ]
}